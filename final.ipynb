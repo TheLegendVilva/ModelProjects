{
 "cells": [
  {
   "cell_type": "code",
   "execution_count": 1,
   "metadata": {},
   "outputs": [],
   "source": [
    "import tensorflow as tf\n",
    "import subprocess\n",
    "model = tf.saved_model.load(\"resnet_model_MISAHUB\")"
   ]
  },
  {
   "cell_type": "code",
   "execution_count": 26,
   "metadata": {},
   "outputs": [
    {
     "name": "stdout",
     "output_type": "stream",
     "text": [
      "Bleeding\n"
     ]
    },
    {
     "name": "stderr",
     "output_type": "stream",
     "text": [
      "\u001b[34m\u001b[1mdetect: \u001b[0mweights=['best(1).pt'], source=C:\\Programming\\MISAHUB\\Images\\\\b_img- (1008).png, data=..\\yolov5\\data\\coco128.yaml, imgsz=[640, 640], conf_thres=0.25, iou_thres=0.45, max_det=1000, device=, view_img=False, save_txt=True, save_csv=False, save_conf=False, save_crop=False, nosave=False, classes=None, agnostic_nms=False, augment=False, visualize=False, update=False, project=., name=exp, exist_ok=False, line_thickness=3, hide_labels=False, hide_conf=False, half=False, dnn=False, vid_stride=1\n",
      "YOLOv5  v7.0-226-gdd9e338 Python-3.10.6 torch-2.0.1+cpu CPU\n",
      "\n",
      "Fusing layers... \n",
      "Model summary: 157 layers, 7012822 parameters, 0 gradients, 15.8 GFLOPs\n",
      "image 1/1 C:\\Programming\\MISAHUB\\Images\\b_img- (1008).png: 640x640 1 bleeding, 172.0ms\n",
      "Speed: 1.0ms pre-process, 172.0ms inference, 1.0ms NMS per image at shape (1, 3, 640, 640)\n",
      "Results saved to \u001b[1mexp\u001b[0m\n",
      "1 labels saved to exp\\labels\n"
     ]
    }
   ],
   "source": [
    "from PIL import Image\n",
    "import os\n",
    "\n",
    "image_path = \"C:\\Programming\\MISAHUB\\Images\\\\b_img- (1008).png\"\n",
    "img = tf.keras.preprocessing.image.load_img(image_path, target_size=(224, 224))\n",
    "img = tf.keras.preprocessing.image.img_to_array(img)\n",
    "img = tf.expand_dims(img, axis=0)\n",
    "\n",
    "classification = model(img)\n",
    "if classification.numpy()[0][0] < 0.5 :\n",
    "    print(\"Bleeding\")\n",
    "    !python ../yolov5/detect.py --source \"C:\\Programming\\MISAHUB\\Images\\\\b_img- (1008).png\" --weights best(1).pt --save-txt --project .\n",
    "else:\n",
    "    print(\"Non Bleeding image\")"
   ]
  },
  {
   "cell_type": "code",
   "execution_count": 23,
   "metadata": {},
   "outputs": [],
   "source": [
    "from PIL import Image\n",
    "import os\n",
    "\n",
    "exp_directory = \"exp\"  # Replace with the actual path to the \"exp\" directory\n",
    "\n",
    "# List all PNG files in the directory\n",
    "png_files = [file for file in os.listdir(exp_directory) if file.endswith(\".png\")]\n",
    "\n",
    "if len(png_files) == 1:\n",
    "    # There is only one PNG file in the directory, so open it\n",
    "    image_path = os.path.join(exp_directory, png_files[0])\n",
    "    img = Image.open(image_path)\n",
    "    img.show()  # Opens the image using the default image viewer\n",
    "else:\n",
    "    print(\"There are no PNG files or multiple PNG files in the directory.\")\n"
   ]
  },
  {
   "cell_type": "code",
   "execution_count": null,
   "metadata": {},
   "outputs": [],
   "source": []
  }
 ],
 "metadata": {
  "kernelspec": {
   "display_name": "Python 3",
   "language": "python",
   "name": "python3"
  },
  "language_info": {
   "codemirror_mode": {
    "name": "ipython",
    "version": 3
   },
   "file_extension": ".py",
   "mimetype": "text/x-python",
   "name": "python",
   "nbconvert_exporter": "python",
   "pygments_lexer": "ipython3",
   "version": "3.10.6"
  }
 },
 "nbformat": 4,
 "nbformat_minor": 2
}
