{
  "nbformat": 4,
  "nbformat_minor": 0,
  "metadata": {
    "colab": {
      "provenance": [],
      "gpuType": "T4",
      "include_colab_link": true
    },
    "kernelspec": {
      "name": "python3",
      "display_name": "Python 3"
    },
    "language_info": {
      "name": "python"
    },
    "accelerator": "GPU"
  },
  "cells": [
    {
      "cell_type": "markdown",
      "metadata": {
        "id": "view-in-github",
        "colab_type": "text"
      },
      "source": [
        "<a href=\"https://colab.research.google.com/github/TheLegendVilva/ModelProjects/blob/main/MisaHubResNet.ipynb\" target=\"_parent\"><img src=\"https://colab.research.google.com/assets/colab-badge.svg\" alt=\"Open In Colab\"/></a>"
      ]
    },
    {
      "cell_type": "markdown",
      "source": [
        "# **Classifying Bleeding and Non-Bleeding Using Resnet**"
      ],
      "metadata": {
        "id": "4PkpgiAcFLLx"
      }
    },
    {
      "cell_type": "markdown",
      "source": [
        "## **Importing and Splitting**\n"
      ],
      "metadata": {
        "id": "r89LWZP2g9GJ"
      }
    },
    {
      "cell_type": "code",
      "source": [
        "from google.colab import drive\n",
        "drive.mount('/content/drive')"
      ],
      "metadata": {
        "colab": {
          "base_uri": "https://localhost:8080/"
        },
        "id": "VoJ-HvHoeo0Q",
        "outputId": "564f2d49-69fa-4888-b7ef-32104fe18d1c"
      },
      "execution_count": 1,
      "outputs": [
        {
          "output_type": "stream",
          "name": "stdout",
          "text": [
            "Mounted at /content/drive\n"
          ]
        }
      ]
    },
    {
      "cell_type": "code",
      "source": [
        "zip_path = '/content/drive/MyDrive/WCEBleedGen.zip'\n",
        "!unzip $zip_path -d MISAHUB"
      ],
      "metadata": {
        "id": "f4wAqXaHepk7"
      },
      "execution_count": null,
      "outputs": []
    },
    {
      "cell_type": "code",
      "source": [
        "import os\n",
        "import shutil\n",
        "\n",
        "images_folder = '/content/MISAHUB/WCEBleedGen/bleeding/Images'\n",
        "annotations_folder = '/content/MISAHUB/WCEBleedGen/bleeding/Bounding boxes/YOLO_TXT'\n",
        "output_folder = '/content/MISAHUB/train/'\n",
        "\n",
        "# Create the 'train' folder if it doesn't exist\n",
        "if not os.path.exists(output_folder):\n",
        "    os.makedirs(output_folder)\n",
        "\n",
        "# Create 'images' and 'labels' folders inside 'train'\n",
        "images_output_folder = os.path.join(output_folder, 'images')\n",
        "labels_output_folder = os.path.join(output_folder, 'labels')\n",
        "\n",
        "os.makedirs(images_output_folder, exist_ok=True)\n",
        "os.makedirs(labels_output_folder, exist_ok=True)\n",
        "\n",
        "# Get a list of files in both folders\n",
        "image_files = os.listdir(images_folder)\n",
        "annotation_files = os.listdir(annotations_folder)\n",
        "\n",
        "# Ensure only files with the same base name are considered\n",
        "image_files = [file for file in image_files if file.endswith('.png')]\n",
        "annotation_files = [file for file in annotation_files if file.endswith('.txt')]\n",
        "\n",
        "# Sort the files to ensure consistent numbering\n",
        "image_files.sort()\n",
        "annotation_files.sort()\n",
        "\n",
        "# Rename and move the files to the 'train' folder\n",
        "for i, (image_file, annotation_file) in enumerate(zip(image_files, annotation_files), start=1):\n",
        "    # Define the new names for the image and annotation\n",
        "    new_image_name = f\"image_{i}.png\"\n",
        "    new_annotation_name = f\"image_{i}.txt\"\n",
        "\n",
        "    # Rename and move the image file\n",
        "    old_image_path = os.path.join(images_folder, image_file)\n",
        "    new_image_path = os.path.join(images_output_folder, new_image_name)\n",
        "    os.rename(old_image_path, new_image_path)\n",
        "\n",
        "    # Rename and move the annotation file\n",
        "    old_annotation_path = os.path.join(annotations_folder, annotation_file)\n",
        "    new_annotation_path = os.path.join(labels_output_folder, new_annotation_name)\n",
        "    os.rename(old_annotation_path, new_annotation_path)\n",
        "\n",
        "    print(f\"Renamed and moved: {image_file} to {new_image_name}\")\n",
        "    print(f\"Renamed and moved: {annotation_file} to {new_annotation_name}\")\n",
        "\n",
        "print(\"All files have been renamed and moved to the 'train' folder.\")\n"
      ],
      "metadata": {
        "id": "Wc8Sl_fUfP1y"
      },
      "execution_count": null,
      "outputs": []
    },
    {
      "cell_type": "code",
      "source": [
        "import os\n",
        "import shutil\n",
        "\n",
        "images_folder = '/content/MISAHUB/WCEBleedGen/non-bleeding/images'\n",
        "output_folder = '/content/MISAHUB/train/'\n",
        "\n",
        "# Create the 'train' folder if it doesn't exist\n",
        "if not os.path.exists(output_folder):\n",
        "    os.makedirs(output_folder)\n",
        "\n",
        "# Create 'images' and 'labels' folders inside 'train'\n",
        "images_output_folder = os.path.join(output_folder, 'images')\n",
        "labels_output_folder = os.path.join(output_folder, 'labels')\n",
        "\n",
        "os.makedirs(images_output_folder, exist_ok=True)\n",
        "os.makedirs(labels_output_folder, exist_ok=True)\n",
        "\n",
        "# Get a list of files in the 'images' folder\n",
        "image_files = os.listdir(images_folder)\n",
        "image_files = [file for file in image_files if file.endswith('.png')]\n",
        "image_files.sort()\n",
        "\n",
        "# Rename and move the files to the 'train' folder\n",
        "for i, image_file in enumerate(image_files, start=1310):\n",
        "    # Define the new names for the image and annotation\n",
        "    new_image_name = f\"images_{i}.png\"\n",
        "    new_annotation_name = f\"images_{i}.txt\"\n",
        "\n",
        "    # Rename and move the image file\n",
        "    old_image_path = os.path.join(images_folder, image_file)\n",
        "    new_image_path = os.path.join(images_output_folder, new_image_name)\n",
        "    os.rename(old_image_path, new_image_path)\n",
        "\n",
        "    # Create an empty label file in the 'labels' folder\n",
        "    new_annotation_path = os.path.join(labels_output_folder, new_annotation_name)\n",
        "    with open(new_annotation_path, 'w') as empty_file:\n",
        "        pass\n",
        "\n",
        "    print(f\"Renamed and moved: {image_file} to {new_image_name}\")\n",
        "    print(f\"Created empty label file: {new_annotation_name}\")\n",
        "\n",
        "print(\"All files have been renamed and moved to the 'train' folder.\")"
      ],
      "metadata": {
        "id": "ukgpuDXAVy3j"
      },
      "execution_count": null,
      "outputs": []
    },
    {
      "cell_type": "code",
      "source": [
        "import os\n",
        "import shutil\n",
        "\n",
        "# Define the paths to the 'train' directory and its subdirectories\n",
        "train_dir = 'MISAHUB/train'  # Update this with the actual path to your 'train' directory\n",
        "images_dir = os.path.join(train_dir, 'images')\n",
        "labels_dir = os.path.join(train_dir, 'labels')\n",
        "train_dir = 'MISAHUB/newTrain'\n",
        "# Create output directories for the two classes\n",
        "bleeding_dir = os.path.join(train_dir, 'bleeding')\n",
        "non_bleeding_dir = os.path.join(train_dir, 'non_bleeding')\n",
        "\n",
        "# Create the 'bleeding' and 'non_bleeding' directories if they don't exist\n",
        "os.makedirs(bleeding_dir, exist_ok=True)\n",
        "os.makedirs(non_bleeding_dir, exist_ok=True)\n",
        "\n",
        "# Iterate through the files in the 'images' directory\n",
        "for image_filename in os.listdir(images_dir):\n",
        "    # Form the corresponding label file path\n",
        "    label_filename = os.path.splitext(image_filename)[0] + '.txt'\n",
        "    label_filepath = os.path.join(labels_dir, label_filename)\n",
        "\n",
        "    # Check if the label file is empty (indicating non-bleeding)\n",
        "    if os.path.exists(label_filepath) and os.path.getsize(label_filepath) == 0:\n",
        "        # Move the image to the 'non_bleeding' directory\n",
        "        shutil.move(os.path.join(images_dir, image_filename), os.path.join(non_bleeding_dir, image_filename))\n",
        "    else:\n",
        "        # Move the image to the 'bleeding' directory\n",
        "        shutil.move(os.path.join(images_dir, image_filename), os.path.join(bleeding_dir, image_filename))\n",
        "\n",
        "print(\"Dataset organized into 'bleeding' and 'non_bleeding' classes.\")\n"
      ],
      "metadata": {
        "id": "mm2rQtsDWwP_",
        "colab": {
          "base_uri": "https://localhost:8080/"
        },
        "outputId": "f2a6eba8-9532-4d82-882b-7bef56dcd910"
      },
      "execution_count": null,
      "outputs": [
        {
          "output_type": "stream",
          "name": "stdout",
          "text": [
            "Dataset organized into 'bleeding' and 'non_bleeding' classes.\n"
          ]
        }
      ]
    },
    {
      "cell_type": "code",
      "source": [
        "! ls MISAHUB/newTrain/bleeding | wc -l"
      ],
      "metadata": {
        "id": "UavS7_rSVe87",
        "colab": {
          "base_uri": "https://localhost:8080/"
        },
        "outputId": "aac303bd-68d3-42c4-98d7-f1a96cba4e1e"
      },
      "execution_count": null,
      "outputs": [
        {
          "output_type": "stream",
          "name": "stdout",
          "text": [
            "1309\n"
          ]
        }
      ]
    },
    {
      "cell_type": "code",
      "source": [
        "import os\n",
        "import random\n",
        "import shutil\n",
        "\n",
        "# Define the paths to the 'bleeding' and 'non_bleeding' directories\n",
        "bleeding_dir = '/content/MISAHUB/newTrain/bleeding'  # Update with the actual path to your 'bleeding' directory\n",
        "non_bleeding_dir = '/content/MISAHUB/newTrain/non_bleeding'  # Update with the actual path to your 'non-bleeding' directory\n",
        "\n",
        "# Define the path to the 'test' directory\n",
        "test_dir = '/content/MISAHUB/test'  # Update with the path where you want to create the 'test' directory\n",
        "\n",
        "# Create the 'test' directory if it doesn't exist\n",
        "os.makedirs(test_dir, exist_ok=True)\n",
        "\n",
        "# Define the number of files to randomly select from each directory\n",
        "num_files_to_select = 20\n",
        "\n",
        "# Randomly select 20 files from the 'bleeding' directory\n",
        "bleeding_files = os.listdir(bleeding_dir)\n",
        "selected_bleeding_files = random.sample(bleeding_files, num_files_to_select)\n",
        "\n",
        "# Randomly select 20 files from the 'non_bleeding' directory\n",
        "non_bleeding_files = os.listdir(non_bleeding_dir)\n",
        "selected_non_bleeding_files = random.sample(non_bleeding_files, num_files_to_select)\n",
        "\n",
        "# Copy the selected 'bleeding' files to the 'test' directory with new names\n",
        "for filename in selected_bleeding_files:\n",
        "    source_filepath = os.path.join(bleeding_dir, filename)\n",
        "    new_filename = f'bleeding_{filename}'\n",
        "    dest_filepath = os.path.join(test_dir, new_filename)\n",
        "    shutil.copy(source_filepath, dest_filepath)\n",
        "    # Remove the file from the 'bleeding' directory\n",
        "    os.remove(source_filepath)\n",
        "\n",
        "# Copy the selected 'non_bleeding' files to the 'test' directory with new names\n",
        "for filename in selected_non_bleeding_files:\n",
        "    source_filepath = os.path.join(non_bleeding_dir, filename)\n",
        "    new_filename = f'non_bleeding_{filename}'\n",
        "    dest_filepath = os.path.join(test_dir, new_filename)\n",
        "    shutil.copy(source_filepath, dest_filepath)\n",
        "    # Remove the file from the 'non_bleeding' directory\n",
        "    os.remove(source_filepath)\n",
        "\n",
        "print(f\"Selected and copied {num_files_to_select} files from 'bleeding' and 'non-bleeding' to the 'test' directory, and removed them from the original directories.\")\n"
      ],
      "metadata": {
        "id": "rq7U71RIWwRI"
      },
      "execution_count": null,
      "outputs": []
    },
    {
      "cell_type": "code",
      "source": [
        "import matplotlib.pyplot as plt\n",
        "import numpy as np\n",
        "import os\n",
        "import PIL\n",
        "import tensorflow as tf\n",
        "from tensorflow import keras\n",
        "from tensorflow.keras import layers\n",
        "from tensorflow.python.keras.layers import Dense, Flatten, Dropout\n",
        "from tensorflow.keras.models import Sequential\n",
        "from tensorflow.keras.optimizers import Adam"
      ],
      "metadata": {
        "id": "0gSmVvwUfp2u"
      },
      "execution_count": null,
      "outputs": []
    },
    {
      "cell_type": "code",
      "source": [
        "from pathlib import Path\n",
        "dataset_dir = 'MISAHUB/newTrain'\n",
        "dataset_dir = Path(dataset_dir)\n",
        "bleeding = list(dataset_dir.glob('bleeding/*'))\n",
        "print(bleeding[0])\n",
        "image = PIL.Image.open(str(bleeding[0]))\n",
        "width, height = image.size\n",
        "print(width, height)"
      ],
      "metadata": {
        "id": "M6N5_xdqqz3V",
        "colab": {
          "base_uri": "https://localhost:8080/"
        },
        "outputId": "a9aa84e4-5cd3-4b59-dcb1-31d4a2836f9d"
      },
      "execution_count": null,
      "outputs": [
        {
          "output_type": "stream",
          "name": "stdout",
          "text": [
            "MISAHUB/newTrain/bleeding/image_1030.png\n",
            "224 224\n"
          ]
        }
      ]
    },
    {
      "cell_type": "code",
      "source": [
        "from tensorflow.keras.preprocessing import image_dataset_from_directory\n",
        "\n",
        "# Define the path to the 'train' directory\n",
        "train_dir = 'MISAHUB/newTrain'\n",
        "img_height,img_width=224,224\n",
        "batch_size=32\n",
        "train_dataset = image_dataset_from_directory(\n",
        "    train_dir,\n",
        "    labels='inferred',\n",
        "    label_mode='binary',\n",
        "    batch_size=32,  # Adjust batch size as needed\n",
        "    image_size=(224, 224),  # Specify the desired image size\n",
        "    shuffle=True,\n",
        "    seed=123,\n",
        "    validation_split=0.2,  # Split a portion of data for validation\n",
        "    subset='training'  # Use 'training' subset for training data\n",
        ")\n",
        "\n",
        "# Create the validation dataset with the same validation split\n",
        "validation_dataset = image_dataset_from_directory(\n",
        "    train_dir,\n",
        "    labels='inferred',\n",
        "    label_mode='binary',\n",
        "    batch_size=32,  # Adjust batch size as needed\n",
        "    image_size=(224, 224),  # Specify the desired image size\n",
        "    shuffle=True,\n",
        "    seed=123,\n",
        "    validation_split=0.2,  # Use the same validation split as for training\n",
        "    subset='validation'  # Use 'validation' subset for validation data\n",
        ")"
      ],
      "metadata": {
        "id": "IitcVWIWqrzv",
        "outputId": "02ce1634-8a5a-492c-8c55-e9475eaeae9f",
        "colab": {
          "base_uri": "https://localhost:8080/"
        }
      },
      "execution_count": null,
      "outputs": [
        {
          "output_type": "stream",
          "name": "stdout",
          "text": [
            "Found 2578 files belonging to 2 classes.\n",
            "Using 2063 files for training.\n",
            "Found 2578 files belonging to 2 classes.\n",
            "Using 515 files for validation.\n"
          ]
        }
      ]
    },
    {
      "cell_type": "code",
      "source": [
        "class_names = train_dataset.class_names\n",
        "print(class_names)"
      ],
      "metadata": {
        "id": "hz3H4ykAsZLv",
        "outputId": "e27c7f9f-b286-4508-88bc-e0d79e8094d8",
        "colab": {
          "base_uri": "https://localhost:8080/"
        }
      },
      "execution_count": null,
      "outputs": [
        {
          "output_type": "stream",
          "name": "stdout",
          "text": [
            "['bleeding', 'non_bleeding']\n"
          ]
        }
      ]
    },
    {
      "cell_type": "markdown",
      "source": [
        "## **Classification ResNet**"
      ],
      "metadata": {
        "id": "AewhITJMgvWs"
      }
    },
    {
      "cell_type": "code",
      "source": [
        "from tensorflow.keras.regularizers import l2\n",
        "resnet_model = Sequential()\n",
        "\n",
        "pretrained_model= tf.keras.applications.ResNet50(include_top=False,\n",
        "                   input_shape=(224,224,3),\n",
        "                   pooling='max',classes=2,\n",
        "                   weights='imagenet')\n",
        "# for layer in pretrained_model.layers:\n",
        "#         layer.trainable=False\n",
        "# Unfreeze specific layers\n",
        "for layer in pretrained_model.layers:\n",
        "    if layer.name in ['block4_conv1', 'block4_conv2', 'block4_conv3']:\n",
        "        layer.trainable = True\n",
        "    else:\n",
        "        layer.trainable = False\n",
        "\n",
        "# Compile the model after unfreezing layers\n",
        "# resnet_model.compile(optimizer='adam', loss='binary_crossentropy', metrics=['accuracy'])\n",
        "\n",
        "\n",
        "resnet_model.add(pretrained_model)\n",
        "resnet_model.add(Flatten())\n",
        "resnet_model.add(Dense(512, activation='relu', kernel_regularizer=l2(0.02)))\n",
        "resnet_model.add(Dropout(0.5))\n",
        "resnet_model.add(Dense(1, activation='sigmoid',kernel_regularizer=l2(0.02)))"
      ],
      "metadata": {
        "id": "PiWWXwTa0hAK",
        "colab": {
          "base_uri": "https://localhost:8080/"
        },
        "outputId": "8c92c60d-6eb5-45f2-a946-f705fb3b3fe2"
      },
      "execution_count": null,
      "outputs": [
        {
          "output_type": "stream",
          "name": "stdout",
          "text": [
            "Downloading data from https://storage.googleapis.com/tensorflow/keras-applications/resnet/resnet50_weights_tf_dim_ordering_tf_kernels_notop.h5\n",
            "94765736/94765736 [==============================] - 0s 0us/step\n"
          ]
        }
      ]
    },
    {
      "cell_type": "code",
      "source": [
        "resnet_model.summary()"
      ],
      "metadata": {
        "colab": {
          "base_uri": "https://localhost:8080/"
        },
        "id": "Ocxlltpa09LS",
        "outputId": "5a0d7bbb-cc00-4984-b8ae-2c219201e728"
      },
      "execution_count": null,
      "outputs": [
        {
          "output_type": "stream",
          "name": "stdout",
          "text": [
            "Model: \"sequential\"\n",
            "_________________________________________________________________\n",
            " Layer (type)                Output Shape              Param #   \n",
            "=================================================================\n",
            " resnet50 (Functional)       (None, 2048)              23587712  \n",
            "                                                                 \n",
            " module_wrapper (ModuleWrap  (None, 2048)              0         \n",
            " per)                                                            \n",
            "                                                                 \n",
            " module_wrapper_1 (ModuleWr  (None, 512)               1049088   \n",
            " apper)                                                          \n",
            "                                                                 \n",
            " module_wrapper_2 (ModuleWr  (None, 512)               0         \n",
            " apper)                                                          \n",
            "                                                                 \n",
            " module_wrapper_3 (ModuleWr  (None, 1)                 513       \n",
            " apper)                                                          \n",
            "                                                                 \n",
            "=================================================================\n",
            "Total params: 24637313 (93.98 MB)\n",
            "Trainable params: 1049601 (4.00 MB)\n",
            "Non-trainable params: 23587712 (89.98 MB)\n",
            "_________________________________________________________________\n"
          ]
        }
      ]
    },
    {
      "cell_type": "code",
      "source": [
        "resnet_model.compile(optimizer=Adam(learning_rate=0.001),loss='binary_crossentropy',metrics=['accuracy'])"
      ],
      "metadata": {
        "id": "EKycvVcE1A7M"
      },
      "execution_count": null,
      "outputs": []
    },
    {
      "cell_type": "code",
      "source": [
        "epochs=5\n",
        "history = resnet_model.fit(\n",
        "  train_dataset,\n",
        "  validation_data=validation_dataset,\n",
        "  epochs=epochs\n",
        ")"
      ],
      "metadata": {
        "id": "8ZU2ADPF1Oic"
      },
      "execution_count": null,
      "outputs": []
    },
    {
      "cell_type": "code",
      "source": [
        "import os\n",
        "\n",
        "# Define the path to the 'test' directory\n",
        "test_dir = 'MISAHUB/test'  # Update with the actual path to your 'test' directory\n",
        "\n",
        "# Get a list of all image files in the 'test' directory\n",
        "test_image_files = [os.path.join(test_dir, filename) for filename in os.listdir(test_dir)]\n",
        "\n",
        "# Iterate through the 'test' images\n",
        "for image_file in test_image_files:\n",
        "    # Load and preprocess the image\n",
        "    img = tf.keras.preprocessing.image.load_img(image_file, target_size=(224, 224))\n",
        "    img = tf.keras.preprocessing.image.img_to_array(img)\n",
        "    img = tf.expand_dims(img, axis=0)\n",
        "\n",
        "    # Make predictions using the model\n",
        "    predictions = resnet_model.predict(img)\n",
        "\n",
        "    # Get the class label (assuming binary classification with 0 and 1)\n",
        "    class_label = \"bleeding\" if predictions[0][0] < 0.5 else \"non-bleeding\"\n",
        "\n",
        "    # Print the file name and predicted class\n",
        "    print(f\"File: {os.path.basename(image_file)}, Predicted Class: {class_label}\")\n"
      ],
      "metadata": {
        "id": "2oOoHdvTboRC"
      },
      "execution_count": null,
      "outputs": []
    },
    {
      "cell_type": "markdown",
      "source": [
        "## **Evaluating Model**"
      ],
      "metadata": {
        "id": "eSg6Sj0Y3RyR"
      }
    },
    {
      "cell_type": "code",
      "source": [
        "fig1 = plt.gcf()\n",
        "plt.plot(history.history['accuracy'])\n",
        "plt.plot(history.history['val_accuracy'])\n",
        "plt.axis(ymin=0.4,ymax=1)\n",
        "plt.grid()\n",
        "plt.title('Model Accuracy')\n",
        "plt.ylabel('Accuracy')\n",
        "plt.xlabel('Epochs')\n",
        "plt.legend(['train', 'validation'])\n",
        "plt.show()"
      ],
      "metadata": {
        "colab": {
          "base_uri": "https://localhost:8080/",
          "height": 472
        },
        "id": "NwjguSD73RMv",
        "outputId": "5a388d0d-f1c9-4328-805d-e5cd9058978f"
      },
      "execution_count": null,
      "outputs": [
        {
          "output_type": "display_data",
          "data": {
            "text/plain": [
              "<Figure size 640x480 with 1 Axes>"
            ],
            "image/png": "[encoded data removed]"
          },
          "metadata": {}
        }
      ]
    },
    {
      "cell_type": "markdown",
      "source": [
        "## Saving the classifying Model:"
      ],
      "metadata": {
        "id": "QF7Nlo96A4QO"
      }
    },
    {
      "cell_type": "code",
      "source": [
        "resnet_model.save(\"/content/drive/My Drive/models/resnet_model_MISAHUB\")"
      ],
      "metadata": {
        "id": "DHMdcNA1A6qQ"
      },
      "execution_count": null,
      "outputs": []
    },
    {
      "cell_type": "markdown",
      "source": [
        "# Detection on Bleeding Frames"
      ],
      "metadata": {
        "id": "QBg1qV4QBwFt"
      }
    },
    {
      "cell_type": "code",
      "source": [
        "from tensorflow import keras\n",
        "classifier = keras.models.load_model('/content/drive/My Drive/models/resnet_model_MISAHUB')"
      ],
      "metadata": {
        "id": "Dj0jgg2nB1MG"
      },
      "execution_count": null,
      "outputs": []
    },
    {
      "cell_type": "markdown",
      "source": [
        "Now we will train the model for detection. For this we will use only the bleeding images and their annotations from the **MISAHUB/WCEBleedGen/bleeding** directory.</br>\n",
        "images: \"/content/MISAHUB/WCEBleedGen/bleeding/Images\"</br>\n",
        "bounding_boxes =  \"/content/MISAHUB/WCEBleedGen/bleeding/Bounding\\ boxes/XML\""
      ],
      "metadata": {
        "id": "uuTCxNzKClSq"
      }
    },
    {
      "cell_type": "code",
      "source": [
        "zip_path = '/content/drive/MyDrive/WCEBleedGen.zip'\n",
        "!unzip $zip_path -d MISAHUB"
      ],
      "metadata": {
        "id": "NjyoutgkCFQV"
      },
      "execution_count": null,
      "outputs": []
    },
    {
      "cell_type": "code",
      "source": [
        "%cd /content"
      ],
      "metadata": {
        "colab": {
          "base_uri": "https://localhost:8080/"
        },
        "id": "OPg_-ktuzVcp",
        "outputId": "4088334d-ddfb-4a6f-b16a-59d78f52d47b"
      },
      "execution_count": 16,
      "outputs": [
        {
          "output_type": "stream",
          "name": "stdout",
          "text": [
            "/content\n"
          ]
        }
      ]
    },
    {
      "cell_type": "code",
      "source": [
        "import os\n",
        "import random\n",
        "import shutil\n",
        "\n",
        "# Define the paths to the source directories\n",
        "images_dir = 'MISAHUB/WCEBleedGen/bleeding/Images'\n",
        "yolo_dir = 'MISAHUB/WCEBleedGen/bleeding/Bounding boxes/YOLO_TXT'\n",
        "\n",
        "# Define the paths for train, validation, and test directories\n",
        "train_dir = 'train_data'\n",
        "val_dir = 'val_data'\n",
        "test_dir = 'test_dir'\n",
        "\n",
        "# Create the train, validation, and test directories if they don't exist\n",
        "os.makedirs(train_dir, exist_ok=True)\n",
        "os.makedirs(val_dir, exist_ok=True)\n",
        "os.makedirs(test_dir, exist_ok=True)\n",
        "\n",
        "\n",
        "# Define subdirectories for \"images\" and \"labels\"\n",
        "subdirs = ['images', 'labels']\n",
        "\n",
        "# Create subdirectories for train, validation, and test datasets\n",
        "for subdir in subdirs:\n",
        "    os.makedirs(os.path.join(train_dir, subdir), exist_ok=True)\n",
        "    os.makedirs(os.path.join(val_dir, subdir), exist_ok=True)\n",
        "    os.makedirs(os.path.join(test_dir, subdir), exist_ok=True)\n",
        "\n",
        "\n",
        "# List all the image files\n",
        "image_files = os.listdir(images_dir)\n",
        "\n",
        "# Shuffle the files randomly\n",
        "random.shuffle(image_files)\n",
        "\n",
        "# Calculate the split sizes\n",
        "total_samples = len(image_files)\n",
        "train_size = int(0.7 * total_samples)\n",
        "val_size = int(0.295 * total_samples)\n",
        "test_size = int(0.05* total_samples)\n",
        "\n",
        "\n",
        "# Define a function to move image and XML files to the specified directory\n",
        "def move_files(source_dir, destination_dir, subdir, file_list):\n",
        "    for file_name in file_list:\n",
        "        source_path = os.path.join(source_dir, file_name)\n",
        "        destination_path = os.path.join(destination_dir, subdir, file_name)\n",
        "        shutil.copy(source_path, destination_path)\n",
        "\n",
        "# Move files to train directory\n",
        "move_files(images_dir, train_dir, 'images', image_files[:train_size])\n",
        "move_files(yolo_dir, train_dir, 'labels', [file.replace('.png', '.txt') for file in image_files[:train_size]])\n",
        "\n",
        "# Move files to validation directory\n",
        "move_files(images_dir, val_dir, 'images', image_files[train_size:train_size + val_size])\n",
        "move_files(yolo_dir, val_dir, 'labels', [file.replace('.png', '.txt') for file in image_files[train_size:train_size + val_size]])\n",
        "\n",
        "\n",
        "move_files(images_dir, test_dir, 'images', image_files[train_size:train_size + test_size])\n",
        "move_files(yolo_dir, test_dir, 'labels', [file.replace('.png', '.txt') for file in image_files[train_size:train_size + test_size]])\n",
        "\n"
      ],
      "metadata": {
        "id": "lP4okvjoF-8N"
      },
      "execution_count": 17,
      "outputs": []
    },
    {
      "cell_type": "markdown",
      "source": [
        "## Yolov5\n"
      ],
      "metadata": {
        "id": "wuyAyZuwMXyv"
      }
    },
    {
      "cell_type": "code",
      "source": [
        "!git clone https://github.com/ultralytics/yolov5  # clone\n",
        "%cd yolov5\n",
        "!pip install -r requirements.txt  # install"
      ],
      "metadata": {
        "id": "dy3ExisXl9OX",
        "colab": {
          "base_uri": "https://localhost:8080/"
        },
        "outputId": "fce29160-7a72-4133-d5ca-e98bbb0b915d"
      },
      "execution_count": 18,
      "outputs": [
        {
          "output_type": "stream",
          "name": "stdout",
          "text": [
            "fatal: destination path 'yolov5' already exists and is not an empty directory.\n",
            "/content/yolov5\n",
            "Requirement already satisfied: gitpython>=3.1.30 in /usr/local/lib/python3.10/dist-packages (from -r requirements.txt (line 5)) (3.1.37)\n",
            "Requirement already satisfied: matplotlib>=3.3 in /usr/local/lib/python3.10/dist-packages (from -r requirements.txt (line 6)) (3.7.1)\n",
            "Requirement already satisfied: numpy>=1.22.2 in /usr/local/lib/python3.10/dist-packages (from -r requirements.txt (line 7)) (1.23.5)\n",
            "Requirement already satisfied: opencv-python>=4.1.1 in /usr/local/lib/python3.10/dist-packages (from -r requirements.txt (line 8)) (4.8.0.76)\n",
            "Requirement already satisfied: Pillow>=7.1.2 in /usr/local/lib/python3.10/dist-packages (from -r requirements.txt (line 9)) (9.4.0)\n",
            "Requirement already satisfied: psutil in /usr/local/lib/python3.10/dist-packages (from -r requirements.txt (line 10)) (5.9.5)\n",
            "Requirement already satisfied: PyYAML>=5.3.1 in /usr/local/lib/python3.10/dist-packages (from -r requirements.txt (line 11)) (6.0.1)\n",
            "Requirement already satisfied: requests>=2.23.0 in /usr/local/lib/python3.10/dist-packages (from -r requirements.txt (line 12)) (2.31.0)\n",
            "Requirement already satisfied: scipy>=1.4.1 in /usr/local/lib/python3.10/dist-packages (from -r requirements.txt (line 13)) (1.11.3)\n",
            "Requirement already satisfied: thop>=0.1.1 in /usr/local/lib/python3.10/dist-packages (from -r requirements.txt (line 14)) (0.1.1.post2209072238)\n",
            "Requirement already satisfied: torch>=1.8.0 in /usr/local/lib/python3.10/dist-packages (from -r requirements.txt (line 15)) (2.0.1+cu118)\n",
            "Requirement already satisfied: torchvision>=0.9.0 in /usr/local/lib/python3.10/dist-packages (from -r requirements.txt (line 16)) (0.15.2+cu118)\n",
            "Requirement already satisfied: tqdm>=4.64.0 in /usr/local/lib/python3.10/dist-packages (from -r requirements.txt (line 17)) (4.66.1)\n",
            "Requirement already satisfied: ultralytics>=8.0.147 in /usr/local/lib/python3.10/dist-packages (from -r requirements.txt (line 18)) (8.0.195)\n",
            "Requirement already satisfied: pandas>=1.1.4 in /usr/local/lib/python3.10/dist-packages (from -r requirements.txt (line 27)) (1.5.3)\n",
            "Requirement already satisfied: seaborn>=0.11.0 in /usr/local/lib/python3.10/dist-packages (from -r requirements.txt (line 28)) (0.12.2)\n",
            "Requirement already satisfied: setuptools>=65.5.1 in /usr/local/lib/python3.10/dist-packages (from -r requirements.txt (line 42)) (67.7.2)\n",
            "Requirement already satisfied: gitdb<5,>=4.0.1 in /usr/local/lib/python3.10/dist-packages (from gitpython>=3.1.30->-r requirements.txt (line 5)) (4.0.10)\n",
            "Requirement already satisfied: contourpy>=1.0.1 in /usr/local/lib/python3.10/dist-packages (from matplotlib>=3.3->-r requirements.txt (line 6)) (1.1.1)\n",
            "Requirement already satisfied: cycler>=0.10 in /usr/local/lib/python3.10/dist-packages (from matplotlib>=3.3->-r requirements.txt (line 6)) (0.12.0)\n",
            "Requirement already satisfied: fonttools>=4.22.0 in /usr/local/lib/python3.10/dist-packages (from matplotlib>=3.3->-r requirements.txt (line 6)) (4.43.0)\n",
            "Requirement already satisfied: kiwisolver>=1.0.1 in /usr/local/lib/python3.10/dist-packages (from matplotlib>=3.3->-r requirements.txt (line 6)) (1.4.5)\n",
            "Requirement already satisfied: packaging>=20.0 in /usr/local/lib/python3.10/dist-packages (from matplotlib>=3.3->-r requirements.txt (line 6)) (23.2)\n",
            "Requirement already satisfied: pyparsing>=2.3.1 in /usr/local/lib/python3.10/dist-packages (from matplotlib>=3.3->-r requirements.txt (line 6)) (3.1.1)\n",
            "Requirement already satisfied: python-dateutil>=2.7 in /usr/local/lib/python3.10/dist-packages (from matplotlib>=3.3->-r requirements.txt (line 6)) (2.8.2)\n",
            "Requirement already satisfied: charset-normalizer<4,>=2 in /usr/local/lib/python3.10/dist-packages (from requests>=2.23.0->-r requirements.txt (line 12)) (3.3.0)\n",
            "Requirement already satisfied: idna<4,>=2.5 in /usr/local/lib/python3.10/dist-packages (from requests>=2.23.0->-r requirements.txt (line 12)) (3.4)\n",
            "Requirement already satisfied: urllib3<3,>=1.21.1 in /usr/local/lib/python3.10/dist-packages (from requests>=2.23.0->-r requirements.txt (line 12)) (2.0.6)\n",
            "Requirement already satisfied: certifi>=2017.4.17 in /usr/local/lib/python3.10/dist-packages (from requests>=2.23.0->-r requirements.txt (line 12)) (2023.7.22)\n",
            "Requirement already satisfied: filelock in /usr/local/lib/python3.10/dist-packages (from torch>=1.8.0->-r requirements.txt (line 15)) (3.12.4)\n",
            "Requirement already satisfied: typing-extensions in /usr/local/lib/python3.10/dist-packages (from torch>=1.8.0->-r requirements.txt (line 15)) (4.5.0)\n",
            "Requirement already satisfied: sympy in /usr/local/lib/python3.10/dist-packages (from torch>=1.8.0->-r requirements.txt (line 15)) (1.12)\n",
            "Requirement already satisfied: networkx in /usr/local/lib/python3.10/dist-packages (from torch>=1.8.0->-r requirements.txt (line 15)) (3.1)\n",
            "Requirement already satisfied: jinja2 in /usr/local/lib/python3.10/dist-packages (from torch>=1.8.0->-r requirements.txt (line 15)) (3.1.2)\n",
            "Requirement already satisfied: triton==2.0.0 in /usr/local/lib/python3.10/dist-packages (from torch>=1.8.0->-r requirements.txt (line 15)) (2.0.0)\n",
            "Requirement already satisfied: cmake in /usr/local/lib/python3.10/dist-packages (from triton==2.0.0->torch>=1.8.0->-r requirements.txt (line 15)) (3.27.6)\n",
            "Requirement already satisfied: lit in /usr/local/lib/python3.10/dist-packages (from triton==2.0.0->torch>=1.8.0->-r requirements.txt (line 15)) (17.0.2)\n",
            "Requirement already satisfied: py-cpuinfo in /usr/local/lib/python3.10/dist-packages (from ultralytics>=8.0.147->-r requirements.txt (line 18)) (9.0.0)\n",
            "Requirement already satisfied: pytz>=2020.1 in /usr/local/lib/python3.10/dist-packages (from pandas>=1.1.4->-r requirements.txt (line 27)) (2023.3.post1)\n",
            "Requirement already satisfied: smmap<6,>=3.0.1 in /usr/local/lib/python3.10/dist-packages (from gitdb<5,>=4.0.1->gitpython>=3.1.30->-r requirements.txt (line 5)) (5.0.1)\n",
            "Requirement already satisfied: six>=1.5 in /usr/local/lib/python3.10/dist-packages (from python-dateutil>=2.7->matplotlib>=3.3->-r requirements.txt (line 6)) (1.16.0)\n",
            "Requirement already satisfied: MarkupSafe>=2.0 in /usr/local/lib/python3.10/dist-packages (from jinja2->torch>=1.8.0->-r requirements.txt (line 15)) (2.1.3)\n",
            "Requirement already satisfied: mpmath>=0.19 in /usr/local/lib/python3.10/dist-packages (from sympy->torch>=1.8.0->-r requirements.txt (line 15)) (1.3.0)\n"
          ]
        }
      ]
    },
    {
      "cell_type": "code",
      "source": [
        "import torch\n",
        "\n",
        "from IPython.display import Image, clear_output  # to display images\n",
        "from utils.downloads import attempt_download  # to download models/datasets\n",
        "\n",
        "# clear_output()\n",
        "print('Setup complete. Using torch %s %s' % (torch.__version__, torch.cuda.get_device_properties(0) if torch.cuda.is_available() else 'CPU'))"
      ],
      "metadata": {
        "id": "NQhIEocqnZ_w",
        "colab": {
          "base_uri": "https://localhost:8080/"
        },
        "outputId": "f44efda3-bbdd-464d-b63a-093bbf49d355"
      },
      "execution_count": 19,
      "outputs": [
        {
          "output_type": "stream",
          "name": "stdout",
          "text": [
            "Setup complete. Using torch 2.0.1+cu118 _CudaDeviceProperties(name='Tesla T4', major=7, minor=5, total_memory=15101MB, multi_processor_count=40)\n"
          ]
        }
      ]
    },
    {
      "cell_type": "code",
      "source": [
        "!touch data.yaml"
      ],
      "metadata": {
        "id": "rZFZYdTpnmjV"
      },
      "execution_count": 7,
      "outputs": []
    },
    {
      "cell_type": "code",
      "source": [
        "%cd .."
      ],
      "metadata": {
        "colab": {
          "base_uri": "https://localhost:8080/"
        },
        "id": "9fiRYCb7rKYH",
        "outputId": "a5a6ad3f-2768-488e-c313-ca84b0b35bc9"
      },
      "execution_count": 20,
      "outputs": [
        {
          "output_type": "stream",
          "name": "stdout",
          "text": [
            "/content\n"
          ]
        }
      ]
    },
    {
      "cell_type": "code",
      "source": [
        "!mv train_data yolov5\n",
        "!mv val_data yolov5\n",
        "!mv test_dir yolov5"
      ],
      "metadata": {
        "id": "Uk9gU6senml3"
      },
      "execution_count": 24,
      "outputs": []
    },
    {
      "cell_type": "code",
      "source": [
        "%cd /content/yolov5\n",
        "!python train.py --epochs 50 --data data.yaml --weights ../yolov5s.pt --cache"
      ],
      "metadata": {
        "id": "FlWVT2pKqVQ9",
        "colab": {
          "base_uri": "https://localhost:8080/"
        },
        "outputId": "d4154138-493b-4ccc-eee7-e3e63b77873d"
      },
      "execution_count": 32,
      "outputs": [
        {
          "output_type": "stream",
          "name": "stdout",
          "text": [
            "/content/yolov5\n",
            "\u001b[34m\u001b[1mtrain: \u001b[0mweights=../yolov5s.pt, cfg=, data=data.yaml, hyp=data/hyps/hyp.scratch-low.yaml, epochs=50, batch_size=16, imgsz=640, rect=False, resume=False, nosave=False, noval=False, noautoanchor=False, noplots=False, evolve=None, bucket=, cache=ram, image_weights=False, device=, multi_scale=False, single_cls=False, optimizer=SGD, sync_bn=False, workers=8, project=runs/train, name=exp, exist_ok=False, quad=False, cos_lr=False, label_smoothing=0.0, patience=100, freeze=[0], save_period=-1, seed=0, local_rank=-1, entity=None, upload_dataset=False, bbox_interval=-1, artifact_alias=latest\n",
            "\u001b[34m\u001b[1mgithub: \u001b[0mup to date with https://github.com/ultralytics/yolov5 ✅\n",
            "YOLOv5 🚀 v7.0-226-gdd9e338 Python-3.10.12 torch-2.0.1+cu118 CUDA:0 (Tesla T4, 15102MiB)\n",
            "\n",
            "\u001b[34m\u001b[1mhyperparameters: \u001b[0mlr0=0.01, lrf=0.01, momentum=0.937, weight_decay=0.0005, warmup_epochs=3.0, warmup_momentum=0.8, warmup_bias_lr=0.1, box=0.05, cls=0.5, cls_pw=1.0, obj=1.0, obj_pw=1.0, iou_t=0.2, anchor_t=4.0, fl_gamma=0.0, hsv_h=0.015, hsv_s=0.7, hsv_v=0.4, degrees=0.0, translate=0.1, scale=0.5, shear=0.0, perspective=0.0, flipud=0.0, fliplr=0.5, mosaic=1.0, mixup=0.0, copy_paste=0.0\n",
            "\u001b[34m\u001b[1mComet: \u001b[0mrun 'pip install comet_ml' to automatically track and visualize YOLOv5 🚀 runs in Comet\n",
            "\u001b[34m\u001b[1mTensorBoard: \u001b[0mStart with 'tensorboard --logdir runs/train', view at http://localhost:6006/\n",
            "Overriding model.yaml nc=80 with nc=1\n",
            "\n",
            "                 from  n    params  module                                  arguments                     \n",
            "  0                -1  1      3520  models.common.Conv                      [3, 32, 6, 2, 2]              \n",
            "  1                -1  1     18560  models.common.Conv                      [32, 64, 3, 2]                \n",
            "  2                -1  1     18816  models.common.C3                        [64, 64, 1]                   \n",
            "  3                -1  1     73984  models.common.Conv                      [64, 128, 3, 2]               \n",
            "  4                -1  2    115712  models.common.C3                        [128, 128, 2]                 \n",
            "  5                -1  1    295424  models.common.Conv                      [128, 256, 3, 2]              \n",
            "  6                -1  3    625152  models.common.C3                        [256, 256, 3]                 \n",
            "  7                -1  1   1180672  models.common.Conv                      [256, 512, 3, 2]              \n",
            "  8                -1  1   1182720  models.common.C3                        [512, 512, 1]                 \n",
            "  9                -1  1    656896  models.common.SPPF                      [512, 512, 5]                 \n",
            " 10                -1  1    131584  models.common.Conv                      [512, 256, 1, 1]              \n",
            " 11                -1  1         0  torch.nn.modules.upsampling.Upsample    [None, 2, 'nearest']          \n",
            " 12           [-1, 6]  1         0  models.common.Concat                    [1]                           \n",
            " 13                -1  1    361984  models.common.C3                        [512, 256, 1, False]          \n",
            " 14                -1  1     33024  models.common.Conv                      [256, 128, 1, 1]              \n",
            " 15                -1  1         0  torch.nn.modules.upsampling.Upsample    [None, 2, 'nearest']          \n",
            " 16           [-1, 4]  1         0  models.common.Concat                    [1]                           \n",
            " 17                -1  1     90880  models.common.C3                        [256, 128, 1, False]          \n",
            " 18                -1  1    147712  models.common.Conv                      [128, 128, 3, 2]              \n",
            " 19          [-1, 14]  1         0  models.common.Concat                    [1]                           \n",
            " 20                -1  1    296448  models.common.C3                        [256, 256, 1, False]          \n",
            " 21                -1  1    590336  models.common.Conv                      [256, 256, 3, 2]              \n",
            " 22          [-1, 10]  1         0  models.common.Concat                    [1]                           \n",
            " 23                -1  1   1182720  models.common.C3                        [512, 512, 1, False]          \n",
            " 24      [17, 20, 23]  1     16182  models.yolo.Detect                      [1, [[10, 13, 16, 30, 33, 23], [30, 61, 62, 45, 59, 119], [116, 90, 156, 198, 373, 326]], [128, 256, 512]]\n",
            "Model summary: 214 layers, 7022326 parameters, 7022326 gradients, 15.9 GFLOPs\n",
            "\n",
            "Transferred 343/349 items from ../yolov5s.pt\n",
            "\u001b[34m\u001b[1mAMP: \u001b[0mchecks passed ✅\n",
            "\u001b[34m\u001b[1moptimizer:\u001b[0m SGD(lr=0.01) with parameter groups 57 weight(decay=0.0), 60 weight(decay=0.0005), 60 bias\n",
            "\u001b[34m\u001b[1malbumentations: \u001b[0mBlur(p=0.01, blur_limit=(3, 7)), MedianBlur(p=0.01, blur_limit=(3, 7)), ToGray(p=0.01), CLAHE(p=0.01, clip_limit=(1, 4.0), tile_grid_size=(8, 8))\n",
            "\u001b[34m\u001b[1mtrain: \u001b[0mScanning /content/yolov5/train_data/labels.cache... 916 images, 0 backgrounds, 0 corrupt: 100% 916/916 [00:00<?, ?it/s]\n",
            "\u001b[34m\u001b[1mtrain: \u001b[0mCaching images (1.0GB ram): 100% 916/916 [00:02<00:00, 305.51it/s]\n",
            "\u001b[34m\u001b[1mval: \u001b[0mScanning /content/yolov5/val_data/labels.cache... 386 images, 0 backgrounds, 0 corrupt: 100% 386/386 [00:00<?, ?it/s]\n",
            "\u001b[34m\u001b[1mval: \u001b[0mCaching images (0.4GB ram): 100% 386/386 [00:01<00:00, 215.46it/s]\n",
            "\n",
            "\u001b[34m\u001b[1mAutoAnchor: \u001b[0m3.36 anchors/target, 1.000 Best Possible Recall (BPR). Current anchors are a good fit to dataset ✅\n",
            "Plotting labels to runs/train/exp4/labels.jpg... \n",
            "Image sizes 640 train, 640 val\n",
            "Using 2 dataloader workers\n",
            "Logging results to \u001b[1mruns/train/exp4\u001b[0m\n",
            "Starting training for 50 epochs...\n",
            "\n",
            "      Epoch    GPU_mem   box_loss   obj_loss   cls_loss  Instances       Size\n",
            "       0/49      3.46G     0.1005    0.02603          0          7        640: 100% 58/58 [00:18<00:00,  3.08it/s]\n",
            "                 Class     Images  Instances          P          R      mAP50   mAP50-95: 100% 13/13 [00:04<00:00,  2.95it/s]\n",
            "                   all        386        386     0.0027      0.811     0.0273      0.008\n",
            "\n",
            "      Epoch    GPU_mem   box_loss   obj_loss   cls_loss  Instances       Size\n",
            "       1/49      4.27G    0.07484    0.02299          0          8        640: 100% 58/58 [00:13<00:00,  4.18it/s]\n",
            "                 Class     Images  Instances          P          R      mAP50   mAP50-95: 100% 13/13 [00:03<00:00,  3.56it/s]\n",
            "                   all        386        386      0.198      0.127     0.0753     0.0228\n",
            "\n",
            "      Epoch    GPU_mem   box_loss   obj_loss   cls_loss  Instances       Size\n",
            "       2/49      4.27G    0.06954    0.02236          0         11        640: 100% 58/58 [00:15<00:00,  3.79it/s]\n",
            "                 Class     Images  Instances          P          R      mAP50   mAP50-95: 100% 13/13 [00:04<00:00,  3.01it/s]\n",
            "                   all        386        386     0.0988     0.0155     0.0314    0.00861\n",
            "\n",
            "      Epoch    GPU_mem   box_loss   obj_loss   cls_loss  Instances       Size\n",
            "       3/49      4.27G    0.06539    0.02241          0         10        640: 100% 58/58 [00:12<00:00,  4.62it/s]\n",
            "                 Class     Images  Instances          P          R      mAP50   mAP50-95: 100% 13/13 [00:04<00:00,  2.97it/s]\n",
            "                   all        386        386      0.214      0.198      0.118     0.0438\n",
            "\n",
            "      Epoch    GPU_mem   box_loss   obj_loss   cls_loss  Instances       Size\n",
            "       4/49      4.27G    0.05965    0.02199          0          5        640: 100% 58/58 [00:14<00:00,  4.07it/s]\n",
            "                 Class     Images  Instances          P          R      mAP50   mAP50-95: 100% 13/13 [00:03<00:00,  3.71it/s]\n",
            "                   all        386        386      0.313      0.246      0.146     0.0587\n",
            "\n",
            "      Epoch    GPU_mem   box_loss   obj_loss   cls_loss  Instances       Size\n",
            "       5/49      4.27G    0.06034    0.02174          0         11        640: 100% 58/58 [00:14<00:00,  4.11it/s]\n",
            "                 Class     Images  Instances          P          R      mAP50   mAP50-95: 100% 13/13 [00:03<00:00,  3.91it/s]\n",
            "                   all        386        386      0.215      0.303      0.135     0.0528\n",
            "\n",
            "      Epoch    GPU_mem   box_loss   obj_loss   cls_loss  Instances       Size\n",
            "       6/49      4.27G    0.05529    0.02166          0          4        640: 100% 58/58 [00:13<00:00,  4.17it/s]\n",
            "                 Class     Images  Instances          P          R      mAP50   mAP50-95: 100% 13/13 [00:03<00:00,  3.97it/s]\n",
            "                   all        386        386      0.288      0.275      0.178     0.0668\n",
            "\n",
            "      Epoch    GPU_mem   box_loss   obj_loss   cls_loss  Instances       Size\n",
            "       7/49      4.27G    0.05646    0.02111          0          7        640: 100% 58/58 [00:14<00:00,  4.11it/s]\n",
            "                 Class     Images  Instances          P          R      mAP50   mAP50-95: 100% 13/13 [00:03<00:00,  3.34it/s]\n",
            "                   all        386        386      0.353      0.375      0.261      0.103\n",
            "\n",
            "      Epoch    GPU_mem   box_loss   obj_loss   cls_loss  Instances       Size\n",
            "       8/49      4.27G    0.05338    0.02117          0         13        640: 100% 58/58 [00:13<00:00,  4.43it/s]\n",
            "                 Class     Images  Instances          P          R      mAP50   mAP50-95: 100% 13/13 [00:04<00:00,  2.80it/s]\n",
            "                   all        386        386      0.385      0.409      0.286      0.124\n",
            "\n",
            "      Epoch    GPU_mem   box_loss   obj_loss   cls_loss  Instances       Size\n",
            "       9/49      4.27G    0.05028    0.02057          0          9        640: 100% 58/58 [00:14<00:00,  4.09it/s]\n",
            "                 Class     Images  Instances          P          R      mAP50   mAP50-95: 100% 13/13 [00:03<00:00,  3.75it/s]\n",
            "                   all        386        386      0.311      0.394      0.244      0.107\n",
            "\n",
            "      Epoch    GPU_mem   box_loss   obj_loss   cls_loss  Instances       Size\n",
            "      10/49      4.27G    0.04997    0.02064          0          9        640: 100% 58/58 [00:13<00:00,  4.16it/s]\n",
            "                 Class     Images  Instances          P          R      mAP50   mAP50-95: 100% 13/13 [00:03<00:00,  3.84it/s]\n",
            "                   all        386        386      0.391      0.461      0.355      0.153\n",
            "\n",
            "      Epoch    GPU_mem   box_loss   obj_loss   cls_loss  Instances       Size\n",
            "      11/49      4.27G    0.04918    0.02069          0          9        640: 100% 58/58 [00:14<00:00,  3.97it/s]\n",
            "                 Class     Images  Instances          P          R      mAP50   mAP50-95: 100% 13/13 [00:03<00:00,  3.90it/s]\n",
            "                   all        386        386      0.433      0.484      0.357      0.159\n",
            "\n",
            "      Epoch    GPU_mem   box_loss   obj_loss   cls_loss  Instances       Size\n",
            "      12/49      4.27G    0.04664    0.02012          0          5        640: 100% 58/58 [00:14<00:00,  4.08it/s]\n",
            "                 Class     Images  Instances          P          R      mAP50   mAP50-95: 100% 13/13 [00:03<00:00,  3.28it/s]\n",
            "                   all        386        386        0.4      0.461      0.339      0.155\n",
            "\n",
            "      Epoch    GPU_mem   box_loss   obj_loss   cls_loss  Instances       Size\n",
            "      13/49      4.27G    0.04719    0.01992          0          6        640: 100% 58/58 [00:13<00:00,  4.46it/s]\n",
            "                 Class     Images  Instances          P          R      mAP50   mAP50-95: 100% 13/13 [00:04<00:00,  2.91it/s]\n",
            "                   all        386        386      0.431      0.438      0.381      0.181\n",
            "\n",
            "      Epoch    GPU_mem   box_loss   obj_loss   cls_loss  Instances       Size\n",
            "      14/49      4.27G    0.04632    0.01999          0          5        640: 100% 58/58 [00:13<00:00,  4.23it/s]\n",
            "                 Class     Images  Instances          P          R      mAP50   mAP50-95: 100% 13/13 [00:03<00:00,  3.62it/s]\n",
            "                   all        386        386      0.399      0.451      0.342      0.153\n",
            "\n",
            "      Epoch    GPU_mem   box_loss   obj_loss   cls_loss  Instances       Size\n",
            "      15/49      4.27G    0.04681    0.01973          0          6        640: 100% 58/58 [00:14<00:00,  4.09it/s]\n",
            "                 Class     Images  Instances          P          R      mAP50   mAP50-95: 100% 13/13 [00:03<00:00,  3.94it/s]\n",
            "                   all        386        386      0.415      0.339      0.338      0.169\n",
            "\n",
            "      Epoch    GPU_mem   box_loss   obj_loss   cls_loss  Instances       Size\n",
            "      16/49      4.27G    0.04581    0.01991          0         12        640: 100% 58/58 [00:13<00:00,  4.18it/s]\n",
            "                 Class     Images  Instances          P          R      mAP50   mAP50-95: 100% 13/13 [00:03<00:00,  3.90it/s]\n",
            "                   all        386        386      0.396      0.466      0.342      0.159\n",
            "\n",
            "      Epoch    GPU_mem   box_loss   obj_loss   cls_loss  Instances       Size\n",
            "      17/49      4.27G    0.04572    0.01961          0          5        640: 100% 58/58 [00:13<00:00,  4.17it/s]\n",
            "                 Class     Images  Instances          P          R      mAP50   mAP50-95: 100% 13/13 [00:04<00:00,  3.22it/s]\n",
            "                   all        386        386      0.417      0.503      0.408      0.202\n",
            "\n",
            "      Epoch    GPU_mem   box_loss   obj_loss   cls_loss  Instances       Size\n",
            "      18/49      4.27G     0.0434    0.01993          0          8        640: 100% 58/58 [00:12<00:00,  4.50it/s]\n",
            "                 Class     Images  Instances          P          R      mAP50   mAP50-95: 100% 13/13 [00:04<00:00,  2.84it/s]\n",
            "                   all        386        386      0.461      0.508       0.44      0.216\n",
            "\n",
            "      Epoch    GPU_mem   box_loss   obj_loss   cls_loss  Instances       Size\n",
            "      19/49      4.27G    0.04265    0.01929          0          9        640: 100% 58/58 [00:13<00:00,  4.19it/s]\n",
            "                 Class     Images  Instances          P          R      mAP50   mAP50-95: 100% 13/13 [00:03<00:00,  3.68it/s]\n",
            "                   all        386        386      0.521      0.475      0.435      0.206\n",
            "\n",
            "      Epoch    GPU_mem   box_loss   obj_loss   cls_loss  Instances       Size\n",
            "      20/49      4.27G    0.04348    0.01966          0          9        640: 100% 58/58 [00:13<00:00,  4.14it/s]\n",
            "                 Class     Images  Instances          P          R      mAP50   mAP50-95: 100% 13/13 [00:03<00:00,  3.84it/s]\n",
            "                   all        386        386      0.482      0.541      0.448      0.224\n",
            "\n",
            "      Epoch    GPU_mem   box_loss   obj_loss   cls_loss  Instances       Size\n",
            "      21/49      4.27G    0.04389    0.01931          0          8        640: 100% 58/58 [00:13<00:00,  4.18it/s]\n",
            "                 Class     Images  Instances          P          R      mAP50   mAP50-95: 100% 13/13 [00:03<00:00,  3.95it/s]\n",
            "                   all        386        386       0.49      0.508      0.467      0.229\n",
            "\n",
            "      Epoch    GPU_mem   box_loss   obj_loss   cls_loss  Instances       Size\n",
            "      22/49      4.27G    0.04204    0.01961          0          9        640: 100% 58/58 [00:14<00:00,  4.13it/s]\n",
            "                 Class     Images  Instances          P          R      mAP50   mAP50-95: 100% 13/13 [00:03<00:00,  3.48it/s]\n",
            "                   all        386        386      0.402      0.455      0.411      0.214\n",
            "\n",
            "      Epoch    GPU_mem   box_loss   obj_loss   cls_loss  Instances       Size\n",
            "      23/49      4.27G    0.04163    0.01885          0          4        640: 100% 58/58 [00:12<00:00,  4.47it/s]\n",
            "                 Class     Images  Instances          P          R      mAP50   mAP50-95: 100% 13/13 [00:04<00:00,  2.85it/s]\n",
            "                   all        386        386       0.41      0.521      0.424      0.217\n",
            "\n",
            "      Epoch    GPU_mem   box_loss   obj_loss   cls_loss  Instances       Size\n",
            "      24/49      4.27G    0.04118    0.01882          0         10        640: 100% 58/58 [00:13<00:00,  4.30it/s]\n",
            "                 Class     Images  Instances          P          R      mAP50   mAP50-95: 100% 13/13 [00:04<00:00,  3.25it/s]\n",
            "                   all        386        386      0.519      0.552      0.523       0.26\n",
            "\n",
            "      Epoch    GPU_mem   box_loss   obj_loss   cls_loss  Instances       Size\n",
            "      25/49      4.27G    0.04104     0.0189          0          6        640: 100% 58/58 [00:13<00:00,  4.19it/s]\n",
            "                 Class     Images  Instances          P          R      mAP50   mAP50-95: 100% 13/13 [00:03<00:00,  3.86it/s]\n",
            "                   all        386        386      0.528      0.514       0.48      0.246\n",
            "\n",
            "      Epoch    GPU_mem   box_loss   obj_loss   cls_loss  Instances       Size\n",
            "      26/49      4.27G    0.04007    0.01904          0          7        640: 100% 58/58 [00:13<00:00,  4.27it/s]\n",
            "                 Class     Images  Instances          P          R      mAP50   mAP50-95: 100% 13/13 [00:03<00:00,  3.82it/s]\n",
            "                   all        386        386      0.505      0.549      0.497      0.244\n",
            "\n",
            "      Epoch    GPU_mem   box_loss   obj_loss   cls_loss  Instances       Size\n",
            "      27/49      4.27G    0.04124     0.0189          0         11        640: 100% 58/58 [00:13<00:00,  4.18it/s]\n",
            "                 Class     Images  Instances          P          R      mAP50   mAP50-95: 100% 13/13 [00:03<00:00,  4.00it/s]\n",
            "                   all        386        386      0.556      0.554       0.51      0.247\n",
            "\n",
            "      Epoch    GPU_mem   box_loss   obj_loss   cls_loss  Instances       Size\n",
            "      28/49      4.27G    0.04022    0.01822          0          8        640: 100% 58/58 [00:13<00:00,  4.26it/s]\n",
            "                 Class     Images  Instances          P          R      mAP50   mAP50-95: 100% 13/13 [00:03<00:00,  3.29it/s]\n",
            "                   all        386        386       0.58      0.537      0.534      0.251\n",
            "\n",
            "      Epoch    GPU_mem   box_loss   obj_loss   cls_loss  Instances       Size\n",
            "      29/49      4.27G    0.03939     0.0183          0          8        640: 100% 58/58 [00:12<00:00,  4.55it/s]\n",
            "                 Class     Images  Instances          P          R      mAP50   mAP50-95: 100% 13/13 [00:04<00:00,  2.91it/s]\n",
            "                   all        386        386      0.492       0.56      0.482      0.239\n",
            "\n",
            "      Epoch    GPU_mem   box_loss   obj_loss   cls_loss  Instances       Size\n",
            "      30/49      4.27G    0.03962    0.01868          0          8        640: 100% 58/58 [00:13<00:00,  4.25it/s]\n",
            "                 Class     Images  Instances          P          R      mAP50   mAP50-95: 100% 13/13 [00:03<00:00,  3.60it/s]\n",
            "                   all        386        386      0.559      0.601      0.554      0.274\n",
            "\n",
            "      Epoch    GPU_mem   box_loss   obj_loss   cls_loss  Instances       Size\n",
            "      31/49      4.27G    0.03913     0.0182          0          9        640: 100% 58/58 [00:14<00:00,  4.12it/s]\n",
            "                 Class     Images  Instances          P          R      mAP50   mAP50-95: 100% 13/13 [00:03<00:00,  3.93it/s]\n",
            "                   all        386        386      0.482      0.552      0.497      0.256\n",
            "\n",
            "      Epoch    GPU_mem   box_loss   obj_loss   cls_loss  Instances       Size\n",
            "      32/49      4.27G    0.03948    0.01793          0          8        640: 100% 58/58 [00:13<00:00,  4.17it/s]\n",
            "                 Class     Images  Instances          P          R      mAP50   mAP50-95: 100% 13/13 [00:03<00:00,  3.87it/s]\n",
            "                   all        386        386      0.561      0.622      0.584      0.304\n",
            "\n",
            "      Epoch    GPU_mem   box_loss   obj_loss   cls_loss  Instances       Size\n",
            "      33/49      4.27G    0.03795     0.0188          0          8        640: 100% 58/58 [00:14<00:00,  4.12it/s]\n",
            "                 Class     Images  Instances          P          R      mAP50   mAP50-95: 100% 13/13 [00:03<00:00,  3.49it/s]\n",
            "                   all        386        386      0.546      0.588      0.532      0.277\n",
            "\n",
            "      Epoch    GPU_mem   box_loss   obj_loss   cls_loss  Instances       Size\n",
            "      34/49      4.27G    0.03846    0.01834          0          7        640: 100% 58/58 [00:13<00:00,  4.44it/s]\n",
            "                 Class     Images  Instances          P          R      mAP50   mAP50-95: 100% 13/13 [00:04<00:00,  2.83it/s]\n",
            "                   all        386        386      0.572      0.622      0.571      0.303\n",
            "\n",
            "      Epoch    GPU_mem   box_loss   obj_loss   cls_loss  Instances       Size\n",
            "      35/49      4.27G    0.03772    0.01745          0         10        640: 100% 58/58 [00:13<00:00,  4.30it/s]\n",
            "                 Class     Images  Instances          P          R      mAP50   mAP50-95: 100% 13/13 [00:03<00:00,  3.43it/s]\n",
            "                   all        386        386        0.5       0.58      0.544      0.288\n",
            "\n",
            "      Epoch    GPU_mem   box_loss   obj_loss   cls_loss  Instances       Size\n",
            "      36/49      4.27G    0.03807    0.01737          0          8        640: 100% 58/58 [00:13<00:00,  4.18it/s]\n",
            "                 Class     Images  Instances          P          R      mAP50   mAP50-95: 100% 13/13 [00:03<00:00,  3.93it/s]\n",
            "                   all        386        386      0.642      0.552       0.57      0.297\n",
            "\n",
            "      Epoch    GPU_mem   box_loss   obj_loss   cls_loss  Instances       Size\n",
            "      37/49      4.27G    0.03681    0.01753          0          7        640: 100% 58/58 [00:13<00:00,  4.15it/s]\n",
            "                 Class     Images  Instances          P          R      mAP50   mAP50-95: 100% 13/13 [00:03<00:00,  3.63it/s]\n",
            "                   all        386        386       0.52      0.563       0.55      0.297\n",
            "\n",
            "      Epoch    GPU_mem   box_loss   obj_loss   cls_loss  Instances       Size\n",
            "      38/49      4.27G    0.03754    0.01757          0          5        640: 100% 58/58 [00:13<00:00,  4.16it/s]\n",
            "                 Class     Images  Instances          P          R      mAP50   mAP50-95: 100% 13/13 [00:03<00:00,  3.62it/s]\n",
            "                   all        386        386      0.535      0.591       0.57      0.315\n",
            "\n",
            "      Epoch    GPU_mem   box_loss   obj_loss   cls_loss  Instances       Size\n",
            "      39/49      4.27G    0.03546    0.01745          0          7        640: 100% 58/58 [00:13<00:00,  4.40it/s]\n",
            "                 Class     Images  Instances          P          R      mAP50   mAP50-95: 100% 13/13 [00:04<00:00,  2.85it/s]\n",
            "                   all        386        386      0.565      0.614      0.572        0.3\n",
            "\n",
            "      Epoch    GPU_mem   box_loss   obj_loss   cls_loss  Instances       Size\n",
            "      40/49      4.27G    0.03431    0.01771          0          6        640: 100% 58/58 [00:12<00:00,  4.50it/s]\n",
            "                 Class     Images  Instances          P          R      mAP50   mAP50-95: 100% 13/13 [00:04<00:00,  3.09it/s]\n",
            "                   all        386        386      0.621      0.609      0.606      0.328\n",
            "\n",
            "      Epoch    GPU_mem   box_loss   obj_loss   cls_loss  Instances       Size\n",
            "      41/49      4.27G    0.03532    0.01765          0         10        640: 100% 58/58 [00:13<00:00,  4.18it/s]\n",
            "                 Class     Images  Instances          P          R      mAP50   mAP50-95: 100% 13/13 [00:03<00:00,  3.83it/s]\n",
            "                   all        386        386      0.582      0.562      0.568      0.301\n",
            "\n",
            "      Epoch    GPU_mem   box_loss   obj_loss   cls_loss  Instances       Size\n",
            "      42/49      4.27G    0.03542     0.0182          0         11        640: 100% 58/58 [00:14<00:00,  4.12it/s]\n",
            "                 Class     Images  Instances          P          R      mAP50   mAP50-95: 100% 13/13 [00:03<00:00,  3.92it/s]\n",
            "                   all        386        386      0.627      0.619      0.622      0.333\n",
            "\n",
            "      Epoch    GPU_mem   box_loss   obj_loss   cls_loss  Instances       Size\n",
            "      43/49      4.27G    0.03516    0.01738          0          4        640: 100% 58/58 [00:14<00:00,  4.13it/s]\n",
            "                 Class     Images  Instances          P          R      mAP50   mAP50-95: 100% 13/13 [00:03<00:00,  3.88it/s]\n",
            "                   all        386        386      0.643      0.611      0.619      0.326\n",
            "\n",
            "      Epoch    GPU_mem   box_loss   obj_loss   cls_loss  Instances       Size\n",
            "      44/49      4.27G    0.03547     0.0174          0          9        640: 100% 58/58 [00:13<00:00,  4.17it/s]\n",
            "                 Class     Images  Instances          P          R      mAP50   mAP50-95: 100% 13/13 [00:04<00:00,  2.95it/s]\n",
            "                   all        386        386      0.615      0.596      0.601      0.334\n",
            "\n",
            "      Epoch    GPU_mem   box_loss   obj_loss   cls_loss  Instances       Size\n",
            "      45/49      4.27G    0.03391    0.01644          0          6        640: 100% 58/58 [00:13<00:00,  4.44it/s]\n",
            "                 Class     Images  Instances          P          R      mAP50   mAP50-95: 100% 13/13 [00:04<00:00,  3.20it/s]\n",
            "                   all        386        386      0.601      0.604      0.587      0.326\n",
            "\n",
            "      Epoch    GPU_mem   box_loss   obj_loss   cls_loss  Instances       Size\n",
            "      46/49      4.27G    0.03393    0.01711          0          8        640: 100% 58/58 [00:13<00:00,  4.17it/s]\n",
            "                 Class     Images  Instances          P          R      mAP50   mAP50-95: 100% 13/13 [00:03<00:00,  3.83it/s]\n",
            "                   all        386        386      0.648      0.596      0.619      0.343\n",
            "\n",
            "      Epoch    GPU_mem   box_loss   obj_loss   cls_loss  Instances       Size\n",
            "      47/49      4.27G    0.03259    0.01774          0          8        640: 100% 58/58 [00:13<00:00,  4.14it/s]\n",
            "                 Class     Images  Instances          P          R      mAP50   mAP50-95: 100% 13/13 [00:03<00:00,  3.97it/s]\n",
            "                   all        386        386      0.625      0.614       0.62      0.336\n",
            "\n",
            "      Epoch    GPU_mem   box_loss   obj_loss   cls_loss  Instances       Size\n",
            "      48/49      4.27G    0.03223    0.01661          0          8        640: 100% 58/58 [00:13<00:00,  4.17it/s]\n",
            "                 Class     Images  Instances          P          R      mAP50   mAP50-95: 100% 13/13 [00:03<00:00,  3.84it/s]\n",
            "                   all        386        386      0.696      0.591       0.65       0.36\n",
            "\n",
            "      Epoch    GPU_mem   box_loss   obj_loss   cls_loss  Instances       Size\n",
            "      49/49      4.27G     0.0331    0.01715          0          5        640: 100% 58/58 [00:14<00:00,  4.11it/s]\n",
            "                 Class     Images  Instances          P          R      mAP50   mAP50-95: 100% 13/13 [00:03<00:00,  3.34it/s]\n",
            "                   all        386        386      0.656      0.564      0.632      0.348\n",
            "\n",
            "50 epochs completed in 0.252 hours.\n",
            "Optimizer stripped from runs/train/exp4/weights/last.pt, 14.4MB\n",
            "Optimizer stripped from runs/train/exp4/weights/best.pt, 14.4MB\n",
            "\n",
            "Validating runs/train/exp4/weights/best.pt...\n",
            "Fusing layers... \n",
            "Model summary: 157 layers, 7012822 parameters, 0 gradients, 15.8 GFLOPs\n",
            "                 Class     Images  Instances          P          R      mAP50   mAP50-95: 100% 13/13 [00:05<00:00,  2.17it/s]\n",
            "                   all        386        386      0.697      0.595       0.65       0.36\n",
            "Results saved to \u001b[1mruns/train/exp4\u001b[0m\n"
          ]
        }
      ]
    },
    {
      "cell_type": "code",
      "source": [
        "!python detect.py --source test_dir/images --weights /content/yolov5/runs/train/exp4/weights/best.pt --save-txt"
      ],
      "metadata": {
        "colab": {
          "base_uri": "https://localhost:8080/"
        },
        "id": "lPD9EAEDvAcn",
        "outputId": "1c0db119-7bd1-4db4-91c8-0c53881b4917"
      },
      "execution_count": 36,
      "outputs": [
        {
          "output_type": "stream",
          "name": "stdout",
          "text": [
            "\u001b[34m\u001b[1mdetect: \u001b[0mweights=['/content/yolov5/runs/train/exp4/weights/best.pt'], source=test_dir/images, data=data/coco128.yaml, imgsz=[640, 640], conf_thres=0.25, iou_thres=0.45, max_det=1000, device=, view_img=False, save_txt=True, save_csv=False, save_conf=False, save_crop=False, nosave=False, classes=None, agnostic_nms=False, augment=False, visualize=False, update=False, project=runs/detect, name=exp, exist_ok=False, line_thickness=3, hide_labels=False, hide_conf=False, half=False, dnn=False, vid_stride=1\n",
            "YOLOv5 🚀 v7.0-226-gdd9e338 Python-3.10.12 torch-2.0.1+cu118 CUDA:0 (Tesla T4, 15102MiB)\n",
            "\n",
            "Fusing layers... \n",
            "Model summary: 157 layers, 7012822 parameters, 0 gradients, 15.8 GFLOPs\n",
            "image 1/65 /content/yolov5/test_dir/images/img- (1030).png: 640x640 1 bleeding, 11.5ms\n",
            "image 2/65 /content/yolov5/test_dir/images/img- (107).png: 640x640 (no detections), 11.5ms\n",
            "image 3/65 /content/yolov5/test_dir/images/img- (1075).png: 640x640 1 bleeding, 11.5ms\n",
            "image 4/65 /content/yolov5/test_dir/images/img- (1081).png: 640x640 1 bleeding, 11.5ms\n",
            "image 5/65 /content/yolov5/test_dir/images/img- (1128).png: 640x640 1 bleeding, 11.5ms\n",
            "image 6/65 /content/yolov5/test_dir/images/img- (1164).png: 640x640 1 bleeding, 11.5ms\n",
            "image 7/65 /content/yolov5/test_dir/images/img- (1189).png: 640x640 (no detections), 11.5ms\n",
            "image 8/65 /content/yolov5/test_dir/images/img- (1228).png: 640x640 1 bleeding, 11.5ms\n",
            "image 9/65 /content/yolov5/test_dir/images/img- (1237).png: 640x640 (no detections), 11.5ms\n",
            "image 10/65 /content/yolov5/test_dir/images/img- (1272).png: 640x640 1 bleeding, 11.5ms\n",
            "image 11/65 /content/yolov5/test_dir/images/img- (1287).png: 640x640 (no detections), 11.5ms\n",
            "image 12/65 /content/yolov5/test_dir/images/img- (1299).png: 640x640 (no detections), 11.5ms\n",
            "image 13/65 /content/yolov5/test_dir/images/img- (13).png: 640x640 (no detections), 11.5ms\n",
            "image 14/65 /content/yolov5/test_dir/images/img- (1309).png: 640x640 1 bleeding, 8.6ms\n",
            "image 15/65 /content/yolov5/test_dir/images/img- (134).png: 640x640 1 bleeding, 8.4ms\n",
            "image 16/65 /content/yolov5/test_dir/images/img- (138).png: 640x640 1 bleeding, 8.3ms\n",
            "image 17/65 /content/yolov5/test_dir/images/img- (142).png: 640x640 1 bleeding, 8.4ms\n",
            "image 18/65 /content/yolov5/test_dir/images/img- (170).png: 640x640 (no detections), 8.3ms\n",
            "image 19/65 /content/yolov5/test_dir/images/img- (178).png: 640x640 (no detections), 8.3ms\n",
            "image 20/65 /content/yolov5/test_dir/images/img- (198).png: 640x640 (no detections), 8.3ms\n",
            "image 21/65 /content/yolov5/test_dir/images/img- (22).png: 640x640 (no detections), 8.3ms\n",
            "image 22/65 /content/yolov5/test_dir/images/img- (235).png: 640x640 1 bleeding, 8.4ms\n",
            "image 23/65 /content/yolov5/test_dir/images/img- (245).png: 640x640 (no detections), 8.4ms\n",
            "image 24/65 /content/yolov5/test_dir/images/img- (256).png: 640x640 1 bleeding, 9.1ms\n",
            "image 25/65 /content/yolov5/test_dir/images/img- (265).png: 640x640 1 bleeding, 8.3ms\n",
            "image 26/65 /content/yolov5/test_dir/images/img- (287).png: 640x640 1 bleeding, 7.0ms\n",
            "image 27/65 /content/yolov5/test_dir/images/img- (357).png: 640x640 1 bleeding, 7.0ms\n",
            "image 28/65 /content/yolov5/test_dir/images/img- (364).png: 640x640 1 bleeding, 7.0ms\n",
            "image 29/65 /content/yolov5/test_dir/images/img- (367).png: 640x640 1 bleeding, 7.0ms\n",
            "image 30/65 /content/yolov5/test_dir/images/img- (383).png: 640x640 (no detections), 7.0ms\n",
            "image 31/65 /content/yolov5/test_dir/images/img- (398).png: 640x640 1 bleeding, 7.0ms\n",
            "image 32/65 /content/yolov5/test_dir/images/img- (419).png: 640x640 1 bleeding, 7.0ms\n",
            "image 33/65 /content/yolov5/test_dir/images/img- (429).png: 640x640 (no detections), 6.8ms\n",
            "image 34/65 /content/yolov5/test_dir/images/img- (43).png: 640x640 1 bleeding, 6.8ms\n",
            "image 35/65 /content/yolov5/test_dir/images/img- (443).png: 640x640 1 bleeding, 6.8ms\n",
            "image 36/65 /content/yolov5/test_dir/images/img- (450).png: 640x640 1 bleeding, 6.8ms\n",
            "image 37/65 /content/yolov5/test_dir/images/img- (46).png: 640x640 2 bleedings, 6.8ms\n",
            "image 38/65 /content/yolov5/test_dir/images/img- (461).png: 640x640 1 bleeding, 6.8ms\n",
            "image 39/65 /content/yolov5/test_dir/images/img- (479).png: 640x640 1 bleeding, 6.3ms\n",
            "image 40/65 /content/yolov5/test_dir/images/img- (480).png: 640x640 1 bleeding, 6.3ms\n",
            "image 41/65 /content/yolov5/test_dir/images/img- (516).png: 640x640 (no detections), 6.3ms\n",
            "image 42/65 /content/yolov5/test_dir/images/img- (590).png: 640x640 1 bleeding, 6.3ms\n",
            "image 43/65 /content/yolov5/test_dir/images/img- (605).png: 640x640 1 bleeding, 6.3ms\n",
            "image 44/65 /content/yolov5/test_dir/images/img- (616).png: 640x640 1 bleeding, 6.3ms\n",
            "image 45/65 /content/yolov5/test_dir/images/img- (620).png: 640x640 (no detections), 6.2ms\n",
            "image 46/65 /content/yolov5/test_dir/images/img- (647).png: 640x640 (no detections), 6.2ms\n",
            "image 47/65 /content/yolov5/test_dir/images/img- (651).png: 640x640 1 bleeding, 6.1ms\n",
            "image 48/65 /content/yolov5/test_dir/images/img- (654).png: 640x640 1 bleeding, 6.1ms\n",
            "image 49/65 /content/yolov5/test_dir/images/img- (663).png: 640x640 (no detections), 6.2ms\n",
            "image 50/65 /content/yolov5/test_dir/images/img- (70).png: 640x640 1 bleeding, 6.2ms\n",
            "image 51/65 /content/yolov5/test_dir/images/img- (704).png: 640x640 1 bleeding, 6.1ms\n",
            "image 52/65 /content/yolov5/test_dir/images/img- (724).png: 640x640 1 bleeding, 6.0ms\n",
            "image 53/65 /content/yolov5/test_dir/images/img- (786).png: 640x640 (no detections), 5.9ms\n",
            "image 54/65 /content/yolov5/test_dir/images/img- (809).png: 640x640 (no detections), 6.0ms\n",
            "image 55/65 /content/yolov5/test_dir/images/img- (818).png: 640x640 1 bleeding, 5.9ms\n",
            "image 56/65 /content/yolov5/test_dir/images/img- (835).png: 640x640 1 bleeding, 6.0ms\n",
            "image 57/65 /content/yolov5/test_dir/images/img- (844).png: 640x640 1 bleeding, 5.9ms\n",
            "image 58/65 /content/yolov5/test_dir/images/img- (854).png: 640x640 1 bleeding, 5.9ms\n",
            "image 59/65 /content/yolov5/test_dir/images/img- (861).png: 640x640 1 bleeding, 5.9ms\n",
            "image 60/65 /content/yolov5/test_dir/images/img- (88).png: 640x640 1 bleeding, 5.9ms\n",
            "image 61/65 /content/yolov5/test_dir/images/img- (933).png: 640x640 1 bleeding, 5.9ms\n",
            "image 62/65 /content/yolov5/test_dir/images/img- (966).png: 640x640 1 bleeding, 5.9ms\n",
            "image 63/65 /content/yolov5/test_dir/images/img- (971).png: 640x640 (no detections), 5.9ms\n",
            "image 64/65 /content/yolov5/test_dir/images/img- (99).png: 640x640 (no detections), 5.9ms\n",
            "image 65/65 /content/yolov5/test_dir/images/img- (993).png: 640x640 (no detections), 5.9ms\n",
            "Speed: 0.5ms pre-process, 7.8ms inference, 2.0ms NMS per image at shape (1, 3, 640, 640)\n",
            "Results saved to \u001b[1mruns/detect/exp5\u001b[0m\n",
            "43 labels saved to runs/detect/exp5/labels\n"
          ]
        }
      ]
    },
    {
      "cell_type": "code",
      "source": [
        "import os\n",
        "iou_values=[]\n",
        "exp='exp5'\n",
        "# Function to parse YOLO bounding box format\n",
        "def parse_yolo_box(yolo_box_str):\n",
        "    values = yolo_box_str.strip().split()\n",
        "    class_id = int(values[0])\n",
        "    x_center, y_center, width, height = map(float, values[1:])\n",
        "    return class_id, x_center, y_center, width, height\n",
        "\n",
        "# Function to calculate IoU\n",
        "def calculate_iou(box1, box2):\n",
        "    x1, y1, w1, h1 = box1\n",
        "    x2, y2, w2, h2 = box2\n",
        "\n",
        "    x_intersection = max(x1 - w1 / 2, x2 - w2 / 2)\n",
        "    y_intersection = max(y1 - h1 / 2, y2 - h2 / 2)\n",
        "    w_intersection = min(x1 + w1 / 2, x2 + w2 / 2) - x_intersection\n",
        "    h_intersection = min(y1 + h1 / 2, y2 + h2 / 2) - y_intersection\n",
        "\n",
        "    if w_intersection <= 0 or h_intersection <= 0:\n",
        "        return 0.0\n",
        "\n",
        "    area_intersection = w_intersection * h_intersection\n",
        "    area_box1 = w1 * h1\n",
        "    area_box2 = w2 * h2\n",
        "\n",
        "    iou = area_intersection / (area_box1 + area_box2 - area_intersection)\n",
        "    return iou\n",
        "\n",
        "# Folder paths for predicted and ground truth label text files\n",
        "predicted_folder = '/content/yolov5/runs/detect/'+exp+'/labels'\n",
        "ground_truth_folder = '/content/yolov5/test_dir/labels'\n",
        "\n",
        "# Iterate through files in the predicted folder\n",
        "for filename in os.listdir(ground_truth_folder):\n",
        "    if filename.endswith('.txt'):\n",
        "        predicted_filepath = os.path.join(predicted_folder, filename)\n",
        "        ground_truth_filepath = os.path.join(ground_truth_folder, filename)\n",
        "\n",
        "        # Check if the corresponding ground truth file exists\n",
        "        if not os.path.exists(predicted_filepath):\n",
        "            print(f\"No detections in {filename}\")\n",
        "            iou_values.append(0)\n",
        "            continue\n",
        "\n",
        "        with open(predicted_filepath, 'r') as predicted_file, open(ground_truth_filepath, 'r') as ground_truth_file:\n",
        "            predicted_lines = predicted_file.readlines()\n",
        "            ground_truth_lines = ground_truth_file.readlines()\n",
        "\n",
        "            # Ensure the same number of lines in both files\n",
        "            if len(predicted_lines) != len(ground_truth_lines):\n",
        "                print(f\"Error: Number of boxes in {filename} doesn't match.\")\n",
        "                continue\n",
        "\n",
        "            # Parse and compare each pair of boxes\n",
        "            for predicted_line, ground_truth_line in zip(predicted_lines, ground_truth_lines):\n",
        "                predicted_box = parse_yolo_box(predicted_line)\n",
        "                ground_truth_box = parse_yolo_box(ground_truth_line)\n",
        "\n",
        "                # Calculate IoU for the pair of boxes\n",
        "                iou = calculate_iou(predicted_box[1:], ground_truth_box[1:])\n",
        "                iou_values.append(iou)\n",
        "                print(f\"IoU for {filename}: {iou}\")\n",
        "\n",
        "# You can further process the IoU values as needed (e.g., calculate metrics)."
      ],
      "metadata": {
        "colab": {
          "base_uri": "https://localhost:8080/"
        },
        "id": "uFWCY_ofvm06",
        "outputId": "b8ebfe5b-f8f3-4c5b-f6fb-f895cb2fa187"
      },
      "execution_count": 37,
      "outputs": [
        {
          "output_type": "stream",
          "name": "stdout",
          "text": [
            "IoU for img- (651).txt: 0.4887215639039998\n",
            "No detections in img- (245).txt\n",
            "IoU for img- (256).txt: 0.3020930666150698\n",
            "No detections in img- (170).txt\n",
            "IoU for img- (1272).txt: 0.17170503363224637\n",
            "IoU for img- (364).txt: 0.22442410019318484\n",
            "IoU for img- (1164).txt: 0.8985126134729132\n",
            "IoU for img- (70).txt: 0.0\n",
            "IoU for img- (367).txt: 0.8336401131780031\n",
            "No detections in img- (647).txt\n",
            "IoU for img- (818).txt: 0.8461522297746691\n",
            "No detections in img- (786).txt\n",
            "No detections in img- (383).txt\n",
            "IoU for img- (134).txt: 0.8389922283504508\n",
            "IoU for img- (724).txt: 0.879915062040954\n",
            "No detections in img- (107).txt\n",
            "IoU for img- (590).txt: 0.8141083670439749\n",
            "No detections in img- (1237).txt\n",
            "No detections in img- (22).txt\n",
            "IoU for img- (450).txt: 0.0\n",
            "No detections in img- (809).txt\n",
            "IoU for img- (480).txt: 0.9195305070161925\n",
            "IoU for img- (1228).txt: 0.4540826032030231\n",
            "IoU for img- (88).txt: 0.888862774259415\n",
            "No detections in img- (1189).txt\n",
            "IoU for img- (43).txt: 0.8427700721028091\n",
            "IoU for img- (419).txt: 0.8973093576255655\n",
            "IoU for img- (605).txt: 0.8867193146283636\n",
            "IoU for img- (854).txt: 0.6702229272647428\n",
            "Error: Number of boxes in img- (46).txt doesn't match.\n",
            "IoU for img- (966).txt: 0.7744455764918107\n",
            "IoU for img- (861).txt: 0.8543766901338606\n",
            "No detections in img- (663).txt\n",
            "IoU for img- (357).txt: 0.5587802739045737\n",
            "No detections in img- (198).txt\n",
            "IoU for img- (1030).txt: 0.8986759481973895\n",
            "No detections in img- (516).txt\n",
            "No detections in img- (99).txt\n",
            "IoU for img- (142).txt: 0.18565599007784397\n",
            "IoU for img- (616).txt: 0.6471869116873182\n",
            "No detections in img- (620).txt\n",
            "No detections in img- (178).txt\n",
            "IoU for img- (398).txt: 0.5429906567833568\n",
            "IoU for img- (1309).txt: 0.388947307628241\n",
            "No detections in img- (971).txt\n",
            "IoU for img- (235).txt: 0.41706318516854185\n",
            "No detections in img- (1299).txt\n",
            "IoU for img- (1081).txt: 0.7939214703591779\n",
            "IoU for img- (265).txt: 0.8939131321895496\n",
            "IoU for img- (138).txt: 0.5206830464620292\n",
            "No detections in img- (993).txt\n",
            "IoU for img- (1075).txt: 0.7994666170721157\n",
            "No detections in img- (429).txt\n",
            "IoU for img- (654).txt: 0.7928590457188525\n",
            "IoU for img- (443).txt: 0.0\n",
            "IoU for img- (704).txt: 0.8335288598813799\n",
            "IoU for img- (287).txt: 0.17312898496141543\n",
            "IoU for img- (844).txt: 0.6492270380965791\n",
            "IoU for img- (1128).txt: 0.0\n",
            "IoU for img- (835).txt: 0.7535708515351534\n",
            "No detections in img- (13).txt\n",
            "No detections in img- (1287).txt\n",
            "IoU for img- (479).txt: 0.967585210232047\n",
            "IoU for img- (461).txt: 0.8085242446032394\n",
            "IoU for img- (933).txt: 0.43574048695204426\n"
          ]
        }
      ]
    }
  ]
}